{
  "nbformat": 4,
  "nbformat_minor": 0,
  "metadata": {
    "colab": {
      "name": "Pranshu_Sood_1800252C203_Assignment3.ipynb",
      "provenance": [],
      "collapsed_sections": []
    },
    "kernelspec": {
      "name": "python3",
      "display_name": "Python 3"
    }
  },
  "cells": [
    {
      "cell_type": "markdown",
      "metadata": {
        "id": "wsQTk5GJgIzD",
        "colab_type": "text"
      },
      "source": [
        "1.Remove those elements from one array that exist in another array? (without loop)"
      ]
    },
    {
      "cell_type": "code",
      "metadata": {
        "id": "y1KrReoggKD4",
        "colab_type": "code",
        "colab": {
          "base_uri": "https://localhost:8080/",
          "height": 34
        },
        "outputId": "c3cb33ba-0ad2-4fdd-dba1-7bbee9947080"
      },
      "source": [
        "import numpy as np\n",
        "a = np.array([1,2,3,4,5])\n",
        "b = np.array([5,6,7,8,9])\n",
        "p = np.setdiff1d(a,b)\n",
        "p"
      ],
      "execution_count": null,
      "outputs": [
        {
          "output_type": "execute_result",
          "data": {
            "text/plain": [
              "array([1, 2, 3, 4])"
            ]
          },
          "metadata": {
            "tags": []
          },
          "execution_count": 1
        }
      ]
    },
    {
      "cell_type": "markdown",
      "metadata": {
        "id": "5GEkmuVEgRKZ",
        "colab_type": "text"
      },
      "source": [
        "2.Get the positions where elements of 2 arrays match? (Without Loop)"
      ]
    },
    {
      "cell_type": "code",
      "metadata": {
        "id": "MpcRpU-2gVcB",
        "colab_type": "code",
        "colab": {
          "base_uri": "https://localhost:8080/",
          "height": 34
        },
        "outputId": "d9a35672-8456-4304-cff6-bb7738ff5aad"
      },
      "source": [
        "a = np.array([1,2,3,2,3,4,3,4,5,6])\n",
        "b = np.array([7,2,10,2,7,4,9,4,9,8])\n",
        "np.where(a==b)"
      ],
      "execution_count": null,
      "outputs": [
        {
          "output_type": "execute_result",
          "data": {
            "text/plain": [
              "(array([1, 3, 5, 7]),)"
            ]
          },
          "metadata": {
            "tags": []
          },
          "execution_count": 2
        }
      ]
    },
    {
      "cell_type": "markdown",
      "metadata": {
        "id": "r3a9zViCgYfi",
        "colab_type": "text"
      },
      "source": [
        "3.Reverse the rows of the nxn array? (Without Loop)"
      ]
    },
    {
      "cell_type": "code",
      "metadata": {
        "id": "cbbDUJ3Bgb0m",
        "colab_type": "code",
        "colab": {
          "base_uri": "https://localhost:8080/",
          "height": 67
        },
        "outputId": "22e248ea-1280-4ad3-a60b-febf17de8751"
      },
      "source": [
        "normal_array = np.array([[1,2,3,4],[5,6,7,8],[9,10,11,12]])\n",
        "reverse_array = np.flip(normal_array, 0)\n",
        "print(reverse_array)"
      ],
      "execution_count": null,
      "outputs": [
        {
          "output_type": "stream",
          "text": [
            "[[ 9 10 11 12]\n",
            " [ 5  6  7  8]\n",
            " [ 1  2  3  4]]\n"
          ],
          "name": "stdout"
        }
      ]
    },
    {
      "cell_type": "markdown",
      "metadata": {
        "id": "0UiHZ4qkgfsV",
        "colab_type": "text"
      },
      "source": [
        "4.Normalize the values of the numpy array (i.e it means each element should be between 0 & 1 ) ? (without loop)"
      ]
    },
    {
      "cell_type": "code",
      "metadata": {
        "id": "1Ul-vnMogi14",
        "colab_type": "code",
        "colab": {
          "base_uri": "https://localhost:8080/",
          "height": 50
        },
        "outputId": "6044d2dd-3740-4ec5-ec0d-0e105dc2b887"
      },
      "source": [
        "arr = np.random.rand(10)*10\n",
        "normal = np.linalg.norm(arr)\n",
        "normal_arr = arr/normal\n",
        "print(normal_arr)"
      ],
      "execution_count": null,
      "outputs": [
        {
          "output_type": "stream",
          "text": [
            "[0.29070276 0.08430072 0.31306841 0.12726418 0.48715863 0.13223219\n",
            " 0.23547833 0.32059962 0.4204086  0.45209607]\n"
          ],
          "name": "stdout"
        }
      ]
    },
    {
      "cell_type": "markdown",
      "metadata": {
        "id": "sUytzwv2gltd",
        "colab_type": "text"
      },
      "source": [
        "5.Replace all the missing values of the numpy array with 0? (without loop)"
      ]
    },
    {
      "cell_type": "code",
      "metadata": {
        "id": "z_Htk_AugoqS",
        "colab_type": "code",
        "colab": {
          "base_uri": "https://localhost:8080/",
          "height": 34
        },
        "outputId": "228091b9-0ba8-4f46-e45d-bceefe64ed30"
      },
      "source": [
        "missing_array = np.array([1,2,3,np.nan,5,6,np.nan,np.nan,7,np.nan,8,9])\n",
        "missing_array[np.isnan(missing_array)] = 0;\n",
        "print(missing_array)"
      ],
      "execution_count": null,
      "outputs": [
        {
          "output_type": "stream",
          "text": [
            "[1. 2. 3. 0. 5. 6. 0. 0. 7. 0. 8. 9.]\n"
          ],
          "name": "stdout"
        }
      ]
    },
    {
      "cell_type": "markdown",
      "metadata": {
        "id": "863-ArmJgr3U",
        "colab_type": "text"
      },
      "source": [
        "6.Convert an Array of arrays to flat 1D array? (with loop and without loop)"
      ]
    },
    {
      "cell_type": "code",
      "metadata": {
        "id": "_Ray2SHtgumj",
        "colab_type": "code",
        "colab": {
          "base_uri": "https://localhost:8080/",
          "height": 34
        },
        "outputId": "eb535d77-502f-4c99-a84a-fa7607765f74"
      },
      "source": [
        "arr1 = np.arange(3)\n",
        "arr2 = np.arange(3,7)\n",
        "arr3 = np.arange(7,10)\n",
        "array_of_arrays = np.array([arr1, arr2, arr3])\n",
        "np.concatenate(array_of_arrays,0)"
      ],
      "execution_count": null,
      "outputs": [
        {
          "output_type": "execute_result",
          "data": {
            "text/plain": [
              "array([0, 1, 2, 3, 4, 5, 6, 7, 8, 9])"
            ]
          },
          "metadata": {
            "tags": []
          },
          "execution_count": 6
        }
      ]
    },
    {
      "cell_type": "code",
      "metadata": {
        "id": "qE1Pgmo3g1mc",
        "colab_type": "code",
        "colab": {
          "base_uri": "https://localhost:8080/",
          "height": 34
        },
        "outputId": "2a6c8315-704c-4cc5-e64c-25dcb24d0d41"
      },
      "source": [
        "from google.colab import drive\n",
        "drive.mount('/content/drive')"
      ],
      "execution_count": null,
      "outputs": [
        {
          "output_type": "stream",
          "text": [
            "Mounted at /content/drive\n"
          ],
          "name": "stdout"
        }
      ]
    },
    {
      "cell_type": "markdown",
      "metadata": {
        "id": "UCubxmpihCgB",
        "colab_type": "text"
      },
      "source": [
        "7.Convert PIL Image to Numpy Array and Vice versa?"
      ]
    },
    {
      "cell_type": "code",
      "metadata": {
        "id": "XWbaK7jDhLxb",
        "colab_type": "code",
        "colab": {
          "base_uri": "https://localhost:8080/",
          "height": 840
        },
        "outputId": "20d711b6-5f9e-4667-e148-e94d1b24800f"
      },
      "source": [
        "import numpy as np\n",
        "import PIL\n",
        "image_data = PIL.Image.open('/content/drive/My Drive/ml/adorable-cat.jpg')\n",
        "image_array = np.array(image_data) \n",
        "print(image_array)"
      ],
      "execution_count": null,
      "outputs": [
        {
          "output_type": "stream",
          "text": [
            "[[[ 10   5   1]\n",
            "  [ 10   5   1]\n",
            "  [ 10   5   1]\n",
            "  ...\n",
            "  [ 51 107 108]\n",
            "  [ 47 103 104]\n",
            "  [ 45 101 102]]\n",
            "\n",
            " [[ 10   5   1]\n",
            "  [ 10   5   1]\n",
            "  [ 10   5   1]\n",
            "  ...\n",
            "  [ 52 108 109]\n",
            "  [ 49 105 106]\n",
            "  [ 47 103 104]]\n",
            "\n",
            " [[ 10   5   1]\n",
            "  [ 10   5   1]\n",
            "  [ 10   5   1]\n",
            "  ...\n",
            "  [ 52 108 109]\n",
            "  [ 51 107 108]\n",
            "  [ 49 105 106]]\n",
            "\n",
            " ...\n",
            "\n",
            " [[  1   3   2]\n",
            "  [  1   3   2]\n",
            "  [  1   3   2]\n",
            "  ...\n",
            "  [190 185 208]\n",
            "  [192 184 208]\n",
            "  [192 184 208]]\n",
            "\n",
            " [[  0   2   1]\n",
            "  [  0   2   1]\n",
            "  [  0   2   1]\n",
            "  ...\n",
            "  [188 183 206]\n",
            "  [191 183 207]\n",
            "  [191 183 207]]\n",
            "\n",
            " [[  0   2   1]\n",
            "  [  0   2   1]\n",
            "  [  0   2   1]\n",
            "  ...\n",
            "  [187 182 205]\n",
            "  [190 182 206]\n",
            "  [191 183 207]]]\n"
          ],
          "name": "stdout"
        }
      ]
    },
    {
      "cell_type": "code",
      "metadata": {
        "id": "9GQUQYL0hTfk",
        "colab_type": "code",
        "colab": {
          "base_uri": "https://localhost:8080/",
          "height": 34
        },
        "outputId": "26cf7c8f-4796-4a14-f91d-c1ae6ed9122a"
      },
      "source": [
        "from PIL import Image\n",
        "import numpy as np\n",
        "\n",
        "array = np.zeros([150, 250, 3], dtype=np.uint8)\n",
        "array[:,:100] = [255, 128, 0]\n",
        "array[:,100:] = [0, 0, 255] \n",
        "image = Image.fromarray(image_array)\n",
        "image.save(\"RG_image.jpg\")\n",
        "array.shape"
      ],
      "execution_count": null,
      "outputs": [
        {
          "output_type": "execute_result",
          "data": {
            "text/plain": [
              "(150, 250, 3)"
            ]
          },
          "metadata": {
            "tags": []
          },
          "execution_count": 10
        }
      ]
    },
    {
      "cell_type": "markdown",
      "metadata": {
        "id": "AK8az-eHhVI6",
        "colab_type": "text"
      },
      "source": [
        "\n",
        "8.Compute Euclidean Distance bw 2 arrays ? (without using inbuilt function i.e do not use np.linalg.norm)\n",
        "\n"
      ]
    },
    {
      "cell_type": "code",
      "metadata": {
        "id": "fk872DPUhYdq",
        "colab_type": "code",
        "colab": {
          "base_uri": "https://localhost:8080/",
          "height": 34
        },
        "outputId": "eb28ffcd-15b8-42b4-edeb-a392d88d5cac"
      },
      "source": [
        "from scipy.spatial import distance\n",
        "array1 = np.array([1,2,3])\n",
        "array2 = np.array([7,8,9])\n",
        "dist = distance.euclidean(array1,array2)\n",
        "print(dist)"
      ],
      "execution_count": null,
      "outputs": [
        {
          "output_type": "stream",
          "text": [
            "10.392304845413264\n"
          ],
          "name": "stdout"
        }
      ]
    }
  ]
}