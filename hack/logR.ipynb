{
  "nbformat": 4,
  "nbformat_minor": 0,
  "metadata": {
    "colab": {
      "name": "Logistic Regression",
      "provenance": [],
      "collapsed_sections": []
    },
    "kernelspec": {
      "name": "python3",
      "display_name": "Python 3"
    }
  },
  "cells": [
    {
      "cell_type": "markdown",
      "metadata": {
        "id": "AN-BARMnu4gY",
        "colab_type": "text"
      },
      "source": [
        "# Code Starts"
      ]
    },
    {
      "cell_type": "code",
      "metadata": {
        "id": "g4ch3ihogXhY",
        "colab_type": "code",
        "colab": {}
      },
      "source": [
        "import numpy as np\n",
        "import random\n",
        "\n",
        "\n",
        "class Logistic:\n",
        "\n",
        "# data generator\n",
        "  def generator(self,n,m,success_prob):\n",
        "    \n",
        "    #input\n",
        "    X=np.random.randn(n,m+1)\n",
        "\n",
        "    X[0]=1\n",
        "\n",
        "    #weights\n",
        "    w=np.random.randn(m+1,1)\n",
        "\n",
        "    # creating a noise with the same dimension as the y (n,1) \n",
        "    noise =self.bernoulli_noise(success_prob,n)  \n",
        "\n",
        "    #applying sigmoid\n",
        "    y=self.sigmoid(X,w)\n",
        "\n",
        "    #adding noise\n",
        "    y=y+noise\n",
        "\n",
        "    predictions=self.y_calc(y)\n",
        "\n",
        "\n",
        "    #reshaping it from (n,) shape to (n,1) shape\n",
        "    y=np.reshape(predictions,(len(predictions),1))\n",
        "    \n",
        "\n",
        "    return X,y,w\n",
        "\n",
        "  def y_calc(self,y):\n",
        "    # predicting \n",
        "    predictions=[]\n",
        "    for i in np.nditer(y): \n",
        "      if i>0.5:\n",
        "        predictions.append(float(1))\n",
        "      else:\n",
        "        predictions.append(float(0))\n",
        "    return predictions\n",
        "\n",
        "\n",
        "\n",
        "\n",
        "  def logistic_regression(self,X,Y,epochs,threshold,learning_rate,lambd=None,regularizer=None): \n",
        "\n",
        "    m=X.shape[1] # No of features\n",
        "\n",
        "    n=X.shape[0] # No of rows\n",
        "\n",
        "\n",
        "    beta = np.random.rand(m,1)\n",
        "\n",
        "    \n",
        "\n",
        "    if lambd==None: # No regulariser\n",
        "      pre_cost=float('inf')\n",
        "\n",
        "      for i in range(epochs):\n",
        "          pred_y=self.sigmoid(X,beta)\n",
        "          cost=self.Cross_Entropy_loss(n,y,pred_y)\n",
        "          # ls.append(cost)\n",
        "          if abs(pre_cost-cost)<=threshold:\n",
        "              break\n",
        "          else:\n",
        "              pre_cost=cost\n",
        "              gradient=self.gradient_Cross_Entropy_loss(X,Y,pred_y,n)\n",
        "              beta=beta-(float(learning_rate)*gradient)\n",
        "      return pre_cost,beta\n",
        "\n",
        "    else:\n",
        "      if regularizer=='l1':\n",
        "        return self.L1_regularlizer(X=X,Y=Y,n=n,epochs=epochs,threshold=threshold,learning_rate=learning_rate,lambd=lambd,beta=beta)\n",
        "       \n",
        "      elif regularizer=='l2':\n",
        "        return self.L2_regularlizer(X=X,Y=Y,n=n,epochs=epochs,threshold=threshold,learning_rate=learning_rate,lambd=lambd,beta=beta)\n",
        "        \n",
        "\n",
        "\n",
        "  def L1_regularlizer(self,X,Y,n,epochs,threshold,learning_rate,lambd,beta):\n",
        "    pre_cost=float('inf')\n",
        "    for i in range(epochs):\n",
        "      pred_y=self.sigmoid(X,beta)\n",
        "      cost=self.cost_fun_L1(y,pred_y,n,lambd,beta[1:])\n",
        "      if abs(pre_cost-cost)<=threshold:\n",
        "              break\n",
        "      else:\n",
        "        pre_cost=cost\n",
        "        gradient=self.gradient_descent_L1(X,y,pred_y,n,lambd,beta[1:])\n",
        "        beta=beta-(float(learning_rate)*gradient)\n",
        "    return pre_cost,beta\n",
        "\n",
        "  def L2_regularlizer(self,X,Y,n,epochs,threshold,learning_rate,lambd,beta):\n",
        "    pre_cost=float('inf')\n",
        "    for i in range(epochs):\n",
        "      pred_y=self.sigmoid(X,beta)\n",
        "      cost=self.cost_fun_L2(y,pred_y,n,lambd,beta[1:])\n",
        "      if abs(pre_cost-cost)<=threshold:\n",
        "              break\n",
        "      else:\n",
        "        pre_cost=cost\n",
        "        gradient=self.gradient_descent_L2(X,y,pred_y,n,lambd,beta[1:])\n",
        "        beta=beta-(float(learning_rate)*gradient)\n",
        "    return pre_cost,beta\n",
        "\n",
        "  def sigmoid_fun(self,z):\n",
        "    return 1/(1+np.exp(-z))\n",
        "  \n",
        "\n",
        "  def cost_fun_L1(self,y,pred_y,n,lambd,beta):\n",
        "    cost=(np.sum(-(y*np.log(pred_y))-((1-y)*np.log(1-pred_y)))/n) + (lambd/n)*np.linalg.norm(beta,1)\n",
        "    return cost\n",
        "  \n",
        "  def cost_fun_L2(self,y,pred_y,n,lambd,beta):\n",
        "    cost=(np.sum(-(y*np.log(pred_y))-((1-y)*np.log(1-pred_y)))/n)+ (lambd/(2*n))*(np.sum(beta*beta))\n",
        "    return cost\n",
        "\n",
        "  def gradient_descent_L1(self,x,y,pred_y,n,lambd,beta):\n",
        "    grad_0=np.array(np.sum(pred_y-y)/n).reshape(1,1)\n",
        "    new_lambd=lambd*(abs(beta)/beta)\n",
        "    grad_1=(np.matmul(x.T[1:],(pred_y-y))/n) +(new_lambd/n)\n",
        "    gradient=np.concatenate((grad_0,grad_1),axis=0)\n",
        "    return gradient\n",
        "  \n",
        "  def gradient_descent_L2(self,x,y,pred_y,n,lambd,beta):\n",
        "    grad_0=np.array(np.sum(pred_y-y)/n).reshape(1,1)\n",
        "    grad_1=np.matmul(x.T[1:],(pred_y-y))/n+(lambd*beta)/n\n",
        "    gradient=np.concatenate((grad_0,grad_1),axis=0)\n",
        "    return gradient\n",
        "\n",
        "  def sigmoid(self,x,beta):\n",
        "    return 1/(1+np.exp(-(np.matmul(x,beta))))\n",
        "\n",
        "  def bernoulli_noise(self,success_prob,n):\n",
        "    noise=np.random.binomial(1, success_prob, n) \n",
        "    noise=np.reshape(noise, (n, 1)) # reshaping it to (n,1)\n",
        "    return noise\n",
        "\n",
        "  def Cross_Entropy_loss(self,m,y,predicted):\n",
        "    return (-1/m)*(np.sum((y.T*np.log(predicted)) + ((1-y).T*(np.log(1-predicted)))))\n",
        "\n",
        "  def gradient_Cross_Entropy_loss(self,X,Y,pred_y,n_sample):\n",
        "   gradient=(np.matmul(X.T,(pred_y-Y)))/n_sample\n",
        "   return gradient\n",
        "\n",
        "\n",
        "\n"
      ],
      "execution_count": null,
      "outputs": []
    },
    {
      "cell_type": "markdown",
      "metadata": {
        "id": "t5DdZVqkuusk",
        "colab_type": "text"
      },
      "source": [
        "# Answer 1\n"
      ]
    },
    {
      "cell_type": "code",
      "metadata": {
        "id": "WroiNExLihxj",
        "colab_type": "code",
        "colab": {
          "base_uri": "https://localhost:8080/",
          "height": 85
        },
        "outputId": "9a02f86a-e320-4ff8-9c7e-9c91b20283ef"
      },
      "source": [
        "df=Logistic()\n",
        "X,y,w=df.generator(4,4,0.1)\n",
        "y"
      ],
      "execution_count": null,
      "outputs": [
        {
          "output_type": "execute_result",
          "data": {
            "text/plain": [
              "array([[1.],\n",
              "       [1.],\n",
              "       [0.],\n",
              "       [1.]])"
            ]
          },
          "metadata": {
            "tags": []
          },
          "execution_count": 77
        }
      ]
    },
    {
      "cell_type": "markdown",
      "metadata": {
        "id": "Aaj0EX9Zu0ab",
        "colab_type": "text"
      },
      "source": [
        "# Answer 2"
      ]
    },
    {
      "cell_type": "code",
      "metadata": {
        "id": "m4JcYr9wu3VP",
        "colab_type": "code",
        "colab": {
          "base_uri": "https://localhost:8080/",
          "height": 34
        },
        "outputId": "6db3b690-af35-4339-9637-3a4efc852fb7"
      },
      "source": [
        "cost,s=df.logistic_regression(X,y,10000,0.0000005,.001)\n",
        "cost"
      ],
      "execution_count": null,
      "outputs": [
        {
          "output_type": "execute_result",
          "data": {
            "text/plain": [
              "2.3224835737212173"
            ]
          },
          "metadata": {
            "tags": []
          },
          "execution_count": 78
        }
      ]
    },
    {
      "cell_type": "markdown",
      "metadata": {
        "id": "Swp2rK5j0_OO",
        "colab_type": "text"
      },
      "source": [
        "# Answer 3 \n",
        "\n",
        "## L1 regularisation"
      ]
    },
    {
      "cell_type": "code",
      "metadata": {
        "id": "xuaTbEATyHL6",
        "colab_type": "code",
        "colab": {
          "base_uri": "https://localhost:8080/",
          "height": 34
        },
        "outputId": "0fbc9e4e-f8ac-4ad2-e1ec-fb02a74949bc"
      },
      "source": [
        "cost,s=df.logistic_regression(X,y,10000,0.0000005,.001,0.7,'l1')\n",
        "cost"
      ],
      "execution_count": null,
      "outputs": [
        {
          "output_type": "execute_result",
          "data": {
            "text/plain": [
              "0.592444914197579"
            ]
          },
          "metadata": {
            "tags": []
          },
          "execution_count": 79
        }
      ]
    },
    {
      "cell_type": "markdown",
      "metadata": {
        "id": "28L8nDNd1F-X",
        "colab_type": "text"
      },
      "source": [
        "## L2 Regularisation"
      ]
    },
    {
      "cell_type": "code",
      "metadata": {
        "id": "x5eQvKl01KL8",
        "colab_type": "code",
        "colab": {
          "base_uri": "https://localhost:8080/",
          "height": 34
        },
        "outputId": "ba700085-82a6-47b1-d9ba-206fdb3db713"
      },
      "source": [
        "cost,s=df.logistic_regression(X,y,10000,0.0000005,.001,0.7,'l2')\n",
        "cost"
      ],
      "execution_count": null,
      "outputs": [
        {
          "output_type": "execute_result",
          "data": {
            "text/plain": [
              "0.39273071129701764"
            ]
          },
          "metadata": {
            "tags": []
          },
          "execution_count": 80
        }
      ]
    },
    {
      "cell_type": "markdown",
      "metadata": {
        "id": "IfF7JTdY2CVV",
        "colab_type": "text"
      },
      "source": [
        "### [refrence for Lasso and Ridge regression](https://blog.alexlenail.me/what-is-the-difference-between-ridge-regression-the-lasso-and-elasticnet-ec19c71c9028#:~:text=tldr%3A%20%E2%80%9CRidge%E2%80%9D%20is%20a,If%20still%20confused%20keep%20reading%E2%80%A6)"
      ]
    }
  ]
}