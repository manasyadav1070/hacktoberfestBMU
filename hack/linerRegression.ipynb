{
  "nbformat": 4,
  "nbformat_minor": 0,
  "metadata": {
    "colab": {
      "name": "linerRegression.ipynb",
      "provenance": [],
      "collapsed_sections": []
    },
    "kernelspec": {
      "name": "python3",
      "display_name": "Python 3"
    }
  },
  "cells": [
    {
      "cell_type": "markdown",
      "metadata": {
        "id": "aAOG3wkA_4rz",
        "colab_type": "text"
      },
      "source": [
        "<h1>Programming Exercise 1</h1>"
      ]
    },
    {
      "cell_type": "code",
      "metadata": {
        "id": "_e0BTvaNUeSJ",
        "colab_type": "code",
        "colab": {}
      },
      "source": [
        "import numpy as np\n",
        "import matplotlib.pyplot as plt\n",
        "\n",
        "from scipy import spatial"
      ],
      "execution_count": 189,
      "outputs": []
    },
    {
      "cell_type": "code",
      "metadata": {
        "id": "6Epoan5IUiAj",
        "colab_type": "code",
        "colab": {}
      },
      "source": [
        "def generateRandom(dimension, number, varience):\n",
        "  np.set_printoptions(precision=4)\n",
        "  X = np.random.randn(number, dimension+1)\n",
        "  X[:,0] = 1\n",
        "  B = np.random.randn(dimension+1, 1)\n",
        "  Y = (X.dot(B) + np.random.normal(loc=1, scale=varience))\n",
        "  return X, B, Y"
      ],
      "execution_count": 190,
      "outputs": []
    },
    {
      "cell_type": "code",
      "metadata": {
        "id": "jiJ-YQ6NTEPE",
        "colab_type": "code",
        "colab": {}
      },
      "source": [
        "def linerRegression(X, Y, epoch=10, lr=0.05, threshold=0.00001):\n",
        "  dimension = np.shape(X[0])[0]\n",
        "  Bp = np.zeros(shape=(dimension,1))\n",
        "  costs = [0]\n",
        "  Blist = []\n",
        "  for iter in range(epoch):\n",
        "    h = X.dot(Bp)\n",
        "    loss = h - Y\n",
        "    gradient = X.T.dot(loss) / len(Y)\n",
        "    Bp = Bp - lr*gradient\n",
        "    Blist.append(cosine(B, Bp))\n",
        "    cost = cost_function(X, Y, Bp)\n",
        "    if abs(cost-costs[-1]) < threshold:\n",
        "      print(\"Threshold met at epoch: %2d\" %(len(costs),))\n",
        "      break\n",
        "    costs.append(cost)\n",
        "  #plot(range(len(Blist)), Blist)            #plot how Similirity between B an Bp increases\n",
        "  #plot(range(len(costs)), costs)            #plot how Cost function is decreasing\n",
        "  return Bp, costs"
      ],
      "execution_count": 247,
      "outputs": []
    },
    {
      "cell_type": "code",
      "metadata": {
        "id": "aDCZyh3VUjgs",
        "colab_type": "code",
        "colab": {}
      },
      "source": [
        "def laso(X, Y, reg, epoch=10, lr=0.05, threshold=0.00001):\n",
        "  dimension = np.shape(X[0])[0]\n",
        "  B1 = np.zeros(shape=(dimension,1))\n",
        "  costs = [0]\n",
        "  Blist = []\n",
        "  for iter in range(epoch):\n",
        "    h = X.dot(B1)\n",
        "    loss = h - Y\n",
        "    gradient = X.T.dot(loss) / len(Y)\n",
        "    B1 = B1 - lr*gradient\n",
        "    Blist.append(cosine(B, B1))\n",
        "    cost = cost_function(X, Y, B1) + reg*abs(sum(B1))\n",
        "    if abs(cost-costs[-1]) < threshold:\n",
        "      print(\"L1 Threshold met at epoch: %2d\" %(len(costs),))\n",
        "      break\n",
        "    costs.append(cost)\n",
        "    return B1, costs"
      ],
      "execution_count": 282,
      "outputs": []
    },
    {
      "cell_type": "code",
      "metadata": {
        "id": "FmncXkTQtwek",
        "colab_type": "code",
        "colab": {}
      },
      "source": [
        "def ridge(X, Y, reg, epoch=10, lr=0.05, threshold=0):\n",
        "  dimension = np.shape(X[0])[0]\n",
        "  B2 = np.zeros(shape=(dimension,1))\n",
        "  costs = [0]\n",
        "  Blist = []\n",
        "  for iter in range(epoch):\n",
        "    h = X.dot(B2)\n",
        "    loss = h - Y\n",
        "    gradient = X.T.dot(loss) / len(Y)\n",
        "    B2 = B2 - lr*gradient\n",
        "    Blist.append(cosine(B, B2))\n",
        "    cost = cost_function(X, Y, B2) + reg*sum(B2**2)\n",
        "    if abs(cost-costs[-1]) < threshold:\n",
        "      print(\"L2 Threshold met at epoch: %2d\" %(len(costs),))\n",
        "      break\n",
        "    costs.append(cost)\n",
        "    return B2, costs"
      ],
      "execution_count": 283,
      "outputs": []
    },
    {
      "cell_type": "code",
      "metadata": {
        "id": "a2vxsYPjf8gw",
        "colab_type": "code",
        "colab": {
          "base_uri": "https://localhost:8080/",
          "height": 33
        },
        "outputId": "d9850cb2-30fb-4df7-87a0-ca222c75cc2e"
      },
      "source": [
        "X, B, Y = generateRandom(10, 200, 2)\n",
        "B1, cost1 = laso(X, Y, 0.01, epoch = 10, lr = 0.5)\n",
        "print(\"similarity between B(generated) & B(from LR function) i: %2f\" %(cosine(B, B1),))"
      ],
      "execution_count": 284,
      "outputs": [
        {
          "output_type": "stream",
          "text": [
            "similarity between B(generated) & B(from LR function) i: 0.963381\n"
          ],
          "name": "stdout"
        }
      ]
    },
    {
      "cell_type": "code",
      "metadata": {
        "id": "5q5GdsOTqFqB",
        "colab_type": "code",
        "colab": {
          "base_uri": "https://localhost:8080/",
          "height": 33
        },
        "outputId": "230b1d2c-63b0-427d-f147-782e4e5384df"
      },
      "source": [
        "#X, B, Y = generateRandom(10, 20, 2)\n",
        "B2, cost1 = ridge(X, Y, 0.2, epoch = 10, lr = 0.05)\n",
        "print(\"similarity between B(generated) & B(from LR function) i: %2f\" %(cosine(B, B2),))"
      ],
      "execution_count": 285,
      "outputs": [
        {
          "output_type": "stream",
          "text": [
            "similarity between B(generated) & B(from LR function) i: 0.963381\n"
          ],
          "name": "stdout"
        }
      ]
    },
    {
      "cell_type": "code",
      "metadata": {
        "id": "JYK-jbGuqF47",
        "colab_type": "code",
        "colab": {
          "base_uri": "https://localhost:8080/",
          "height": 33
        },
        "outputId": "af3ba1eb-dd15-4088-ea3d-24f34f9fa3a1"
      },
      "source": [
        "#X, B, Y = generateRandom(10, 20, 2)\n",
        "B2, cost1 = linearRegression(X, Y, epoch = 10, lr = 0.5)\n",
        "print(\"similarity between B(generated) & B(from LR function) i: %2f\" %(cosine(B, B2),))"
      ],
      "execution_count": 251,
      "outputs": [
        {
          "output_type": "stream",
          "text": [
            "similarity between B(generated) & B(from LR function) i: 0.537522\n"
          ],
          "name": "stdout"
        }
      ]
    },
    {
      "cell_type": "code",
      "metadata": {
        "id": "TV85tSUVUKJ2",
        "colab_type": "code",
        "colab": {}
      },
      "source": [
        "def cost_function(X, Y, B):\n",
        "  m = len(Y)\n",
        "  J = np.sum((X.dot(B) - Y) ** 2)/(2 * m)\n",
        "  return J"
      ],
      "execution_count": 215,
      "outputs": []
    },
    {
      "cell_type": "code",
      "metadata": {
        "id": "Kol0u-YUAo8h",
        "colab_type": "code",
        "colab": {}
      },
      "source": [
        "def cost_function_l1(X, Y, B,reg):\n",
        "  J = cost_function(X,Y,B) + reg*abs(sum(B))\n",
        "  return J"
      ],
      "execution_count": 197,
      "outputs": []
    },
    {
      "cell_type": "code",
      "metadata": {
        "id": "264_F2beUgT5",
        "colab_type": "code",
        "colab": {}
      },
      "source": [
        "def cost_function_l2(X, Y, B, reg):\n",
        "  J = cost_function(X,Y,B) + reg*sum(B**2)\n",
        "  return J"
      ],
      "execution_count": 198,
      "outputs": []
    },
    {
      "cell_type": "code",
      "metadata": {
        "id": "Qx9eDpBtVj0q",
        "colab_type": "code",
        "colab": {}
      },
      "source": [
        "def cosine(B, Bp):\n",
        "  result = 1 - spatial.distance.cosine(B, Bp)\n",
        "  return result"
      ],
      "execution_count": 199,
      "outputs": []
    },
    {
      "cell_type": "code",
      "metadata": {
        "id": "PVlLVgmLroY6",
        "colab_type": "code",
        "colab": {}
      },
      "source": [
        "def plot(X, Y):\n",
        "  #plt.plot(X, Y)\n",
        "  plt.scatter(X, Y)\n",
        "  plt.show()"
      ],
      "execution_count": 200,
      "outputs": []
    },
    {
      "cell_type": "code",
      "metadata": {
        "id": "qTNZf4mwjQbj",
        "colab_type": "code",
        "colab": {
          "base_uri": "https://localhost:8080/",
          "height": 50
        },
        "outputId": "58d23d72-56d4-44a5-e958-afdce0cb685d"
      },
      "source": [
        "X, B, Y = generateRandom(10, 100, 0)\n",
        "Bp, cost = linerRegression(X, Y, epoch = 10000, lr = 0.001, threshold=0.0001)\n",
        "print(\"similarity between B(generated) & B(from LR function) i: %2f\" %(cosine(B, Bp),))\n",
        "#plot(range(len(cost)), cost)"
      ],
      "execution_count": 201,
      "outputs": [
        {
          "output_type": "stream",
          "text": [
            "Threshold met at epoch: 2721\n",
            "similarity between B(generated) & B(from LR function) i: 0.973193\n"
          ],
          "name": "stdout"
        }
      ]
    },
    {
      "cell_type": "code",
      "metadata": {
        "id": "nQ7FZrpOj-oc",
        "colab_type": "code",
        "colab": {
          "base_uri": "https://localhost:8080/",
          "height": 264
        },
        "outputId": "cb1a402a-7791-4b80-b2f9-cebfc28d4348"
      },
      "source": [
        "cosineVal = []\n",
        "for i in range(1, 100):\n",
        "  X, B, Y = generateRandom(20, i, 1)\n",
        "  Bp, cost = linerRegression(X, Y, epoch = 100, lr = 0.005, threshold=0)\n",
        "  cosineVal.append(cosine(B, Bp))\n",
        "\n",
        "plot(range(len(cosineVal)), cosineVal)"
      ],
      "execution_count": 202,
      "outputs": [
        {
          "output_type": "display_data",
          "data": {
            "image/png": "[encoded data removed]",
            "text/plain": [
              "<Figure size 432x288 with 1 Axes>"
            ]
          },
          "metadata": {
            "tags": [],
            "needs_background": "light"
          }
        }
      ]
    },
    {
      "cell_type": "code",
      "metadata": {
        "id": "iMdNivYqq58W",
        "colab_type": "code",
        "colab": {
          "base_uri": "https://localhost:8080/",
          "height": 264
        },
        "outputId": "1e12e650-1290-4735-9430-a256c38e06e8"
      },
      "source": [
        "cosineVal = []\n",
        "for i in range(0, 100):\n",
        "  X, B, Y = generateRandom(10, 1000, i)\n",
        "  Bp, cost = linerRegression(X, Y, epoch = 100, lr = 0.005, threshold=0)\n",
        "  cosineVal.append(cosine(B, Bp))\n",
        "\n",
        "plot(range(len(cosineVal)), cosineVal)"
      ],
      "execution_count": 203,
      "outputs": [
        {
          "output_type": "display_data",
          "data": {
            "image/png": "[encoded data removed]",
            "text/plain": [
              "<Figure size 432x288 with 1 Axes>"
            ]
          },
          "metadata": {
            "tags": [],
            "needs_background": "light"
          }
        }
      ]
    },
    {
      "cell_type": "code",
      "metadata": {
        "id": "JK6mKetY_QT_",
        "colab_type": "code",
        "colab": {
          "base_uri": "https://localhost:8080/",
          "height": 264
        },
        "outputId": "e272c127-d1af-4158-d4dc-08026c2cf951"
      },
      "source": [
        "cosineVal = []\n",
        "for i in range(2, 500):\n",
        "  X, B, Y = generateRandom(i, 250, 1)\n",
        "  Bp, cost = linerRegression(X, Y, epoch = 100, lr = 0.05, threshold=0)\n",
        "  cosineVal.append(cosine(B, Bp))\n",
        "\n",
        "plot(range(len(cosineVal)), cosineVal)"
      ],
      "execution_count": 204,
      "outputs": [
        {
          "output_type": "display_data",
          "data": {
            "image/png": "[encoded data removed]",
            "text/plain": [
              "<Figure size 432x288 with 1 Axes>"
            ]
          },
          "metadata": {
            "tags": [],
            "needs_background": "light"
          }
        }
      ]
    },
    {
      "cell_type": "code",
      "metadata": {
        "id": "OtzXrGovj5V1",
        "colab_type": "code",
        "colab": {
          "base_uri": "https://localhost:8080/",
          "height": 1000
        },
        "outputId": "b3744d28-175d-46b9-aba4-2626290751b8"
      },
      "source": [
        "B1, cost1 = LinerRegression.ridge(X, Y, epoch = 10, lr = 0.5, reg=10000)\n",
        "B1"
      ],
      "execution_count": 205,
      "outputs": [
        {
          "output_type": "execute_result",
          "data": {
            "text/plain": [
              "array([[ 2.9574e+01],\n",
              "       [ 1.6950e+00],\n",
              "       [ 3.7251e+01],\n",
              "       [-3.2623e+01],\n",
              "       [ 1.3366e+00],\n",
              "       [ 2.4817e+01],\n",
              "       [ 1.8387e+01],\n",
              "       [-9.4913e+00],\n",
              "       [ 1.8276e+01],\n",
              "       [ 2.7376e+01],\n",
              "       [ 3.7218e+01],\n",
              "       [ 2.0223e+01],\n",
              "       [-1.0516e+01],\n",
              "       [ 1.4143e+00],\n",
              "       [ 5.4590e+00],\n",
              "       [-4.5427e+00],\n",
              "       [-1.8448e+01],\n",
              "       [-1.8984e+01],\n",
              "       [-4.2200e+01],\n",
              "       [-4.7830e+00],\n",
              "       [-5.5698e+00],\n",
              "       [ 1.1296e+01],\n",
              "       [-6.7566e+00],\n",
              "       [ 5.3938e+00],\n",
              "       [ 1.9545e+01],\n",
              "       [ 1.7219e+01],\n",
              "       [ 4.9102e+00],\n",
              "       [-5.7791e+01],\n",
              "       [ 3.9576e+01],\n",
              "       [-6.2260e+00],\n",
              "       [-8.7879e+00],\n",
              "       [-1.8423e+01],\n",
              "       [ 1.5067e+01],\n",
              "       [-1.1571e+01],\n",
              "       [-7.8468e-01],\n",
              "       [-1.5296e+01],\n",
              "       [ 1.1192e+00],\n",
              "       [ 6.2942e+00],\n",
              "       [-2.7910e+00],\n",
              "       [ 1.3279e+01],\n",
              "       [-2.1024e+00],\n",
              "       [ 3.4361e+01],\n",
              "       [ 7.6796e+00],\n",
              "       [ 6.7407e+00],\n",
              "       [-7.2294e+00],\n",
              "       [ 3.4674e+01],\n",
              "       [-9.3384e+00],\n",
              "       [-3.2850e+01],\n",
              "       [ 1.6285e+01],\n",
              "       [-1.3152e+01],\n",
              "       [-3.5707e+01],\n",
              "       [-3.1802e+01],\n",
              "       [-4.0992e+01],\n",
              "       [ 5.4926e-01],\n",
              "       [ 7.2199e-01],\n",
              "       [-1.9486e+01],\n",
              "       [-3.1542e+00],\n",
              "       [-1.7854e+01],\n",
              "       [ 1.4124e+01],\n",
              "       [ 8.9163e+00],\n",
              "       [-4.7528e+01],\n",
              "       [ 2.6439e+00],\n",
              "       [-1.4439e+01],\n",
              "       [-2.6431e+01],\n",
              "       [-9.4908e+00],\n",
              "       [ 2.8631e+01],\n",
              "       [ 4.6292e+01],\n",
              "       [-4.2664e+00],\n",
              "       [-3.4842e+01],\n",
              "       [ 1.3696e+01],\n",
              "       [ 1.1257e+01],\n",
              "       [ 1.8376e+01],\n",
              "       [ 2.4616e+01],\n",
              "       [ 3.0118e+00],\n",
              "       [-5.9532e+00],\n",
              "       [ 2.5434e+00],\n",
              "       [-1.5819e+01],\n",
              "       [-4.0504e+01],\n",
              "       [-2.0982e+01],\n",
              "       [-3.6764e+01],\n",
              "       [-1.1499e+01],\n",
              "       [ 4.0194e+00],\n",
              "       [-3.6555e+01],\n",
              "       [ 5.2305e+00],\n",
              "       [ 5.7474e+00],\n",
              "       [-2.2513e+01],\n",
              "       [-1.5708e+01],\n",
              "       [-2.9391e+01],\n",
              "       [-4.5381e+00],\n",
              "       [-3.5016e+01],\n",
              "       [-1.1276e+01],\n",
              "       [ 1.8096e+01],\n",
              "       [ 9.0805e+00],\n",
              "       [ 3.4466e+01],\n",
              "       [ 1.4637e+01],\n",
              "       [ 6.7154e+00],\n",
              "       [ 9.5789e+00],\n",
              "       [ 7.4694e-01],\n",
              "       [-2.0358e+00],\n",
              "       [-5.4282e+00],\n",
              "       [-2.9364e+01],\n",
              "       [-3.9587e+01],\n",
              "       [-2.2315e+00],\n",
              "       [ 1.5053e+01],\n",
              "       [-2.0239e+01],\n",
              "       [-2.1985e+01],\n",
              "       [-2.9765e+01],\n",
              "       [-2.2960e+01],\n",
              "       [ 1.3390e+01],\n",
              "       [ 2.2545e+00],\n",
              "       [-5.0228e+00],\n",
              "       [-2.7417e+01],\n",
              "       [ 1.4240e+01],\n",
              "       [ 5.3337e+00],\n",
              "       [-2.5841e+01],\n",
              "       [-2.2522e+01],\n",
              "       [ 2.0855e+01],\n",
              "       [-2.4700e+01],\n",
              "       [ 3.0843e+01],\n",
              "       [ 1.1285e+01],\n",
              "       [ 4.7616e+00],\n",
              "       [-1.1634e+00],\n",
              "       [-4.6751e+01],\n",
              "       [-6.1072e+01],\n",
              "       [ 2.3966e+00],\n",
              "       [ 1.5489e+01],\n",
              "       [ 7.6554e+00],\n",
              "       [ 2.0833e+00],\n",
              "       [ 3.3615e+00],\n",
              "       [ 2.7485e+01],\n",
              "       [ 1.4530e+00],\n",
              "       [-2.6586e+01],\n",
              "       [-7.8508e+01],\n",
              "       [-1.1840e+01],\n",
              "       [-4.6602e+01],\n",
              "       [ 2.0280e+00],\n",
              "       [-1.2917e+01],\n",
              "       [-5.2460e+00],\n",
              "       [-6.6580e+00],\n",
              "       [-5.8456e+00],\n",
              "       [-2.5146e+01],\n",
              "       [ 1.3896e+00],\n",
              "       [ 1.0725e+01],\n",
              "       [ 2.3877e+01],\n",
              "       [-1.0900e+01],\n",
              "       [-6.6660e-02],\n",
              "       [-1.7634e+01],\n",
              "       [ 1.1791e+01],\n",
              "       [ 3.3446e+01],\n",
              "       [-2.9033e+01],\n",
              "       [ 3.7984e+01],\n",
              "       [ 2.0463e+01],\n",
              "       [ 5.6566e+01],\n",
              "       [-3.3120e+01],\n",
              "       [-1.4903e+01],\n",
              "       [ 5.9620e+00],\n",
              "       [-7.1576e+00],\n",
              "       [ 1.9329e+01],\n",
              "       [ 6.0370e+00],\n",
              "       [ 1.3716e+01],\n",
              "       [ 3.1996e+01],\n",
              "       [ 1.4410e+01],\n",
              "       [ 1.2180e+01],\n",
              "       [ 3.2974e+01],\n",
              "       [ 2.6186e+00],\n",
              "       [-9.5975e+00],\n",
              "       [ 1.2007e+01],\n",
              "       [ 1.0612e+01],\n",
              "       [-2.9935e+00],\n",
              "       [-1.6186e+01],\n",
              "       [-1.2601e+01],\n",
              "       [-2.9823e+00],\n",
              "       [-2.0509e+01],\n",
              "       [-3.4465e+01],\n",
              "       [ 2.5575e+01],\n",
              "       [ 1.3298e+00],\n",
              "       [-2.6200e+01],\n",
              "       [-3.7646e+01],\n",
              "       [-6.0289e+00],\n",
              "       [ 2.9042e+01],\n",
              "       [ 1.7887e+01],\n",
              "       [-2.2134e+01],\n",
              "       [ 6.3326e+00],\n",
              "       [ 2.9420e+01],\n",
              "       [ 7.9644e+00],\n",
              "       [-4.4471e+00],\n",
              "       [-7.9350e+00],\n",
              "       [ 1.6506e+01],\n",
              "       [ 5.7358e+00],\n",
              "       [ 1.0650e+01],\n",
              "       [-3.1881e+01],\n",
              "       [-2.2377e+01],\n",
              "       [ 1.6865e+01],\n",
              "       [ 1.0528e+01],\n",
              "       [ 1.8313e+01],\n",
              "       [-3.5820e+00],\n",
              "       [ 1.8182e+00],\n",
              "       [-1.1720e+01],\n",
              "       [ 3.2304e+01],\n",
              "       [ 2.0518e+01],\n",
              "       [ 3.2788e+01],\n",
              "       [-4.1427e+01],\n",
              "       [-2.0440e+00],\n",
              "       [ 1.5915e+01],\n",
              "       [ 2.4255e+01],\n",
              "       [ 1.5353e+01],\n",
              "       [-3.5474e+01],\n",
              "       [ 1.0114e+01],\n",
              "       [ 1.6336e+00],\n",
              "       [-2.7699e+01],\n",
              "       [-2.4417e+01],\n",
              "       [ 2.3403e-01],\n",
              "       [ 7.4333e+00],\n",
              "       [-1.6220e+01],\n",
              "       [-2.0517e+01],\n",
              "       [-2.3507e+01],\n",
              "       [ 5.4654e+01],\n",
              "       [-3.9427e+01],\n",
              "       [-3.9157e+01],\n",
              "       [ 1.5085e+00],\n",
              "       [-2.9137e+01],\n",
              "       [-2.8633e+01],\n",
              "       [-9.8146e+00],\n",
              "       [-1.6070e+01],\n",
              "       [ 3.0541e+01],\n",
              "       [ 1.4069e+01],\n",
              "       [-1.8553e+01],\n",
              "       [-2.6886e+00],\n",
              "       [-9.6964e-01],\n",
              "       [-8.8274e+00],\n",
              "       [ 1.6991e+01],\n",
              "       [-1.4069e+01],\n",
              "       [-1.2848e+01],\n",
              "       [-1.6982e+00],\n",
              "       [ 3.2957e+00],\n",
              "       [ 8.3992e+00],\n",
              "       [-1.1061e+01],\n",
              "       [ 2.3808e+01],\n",
              "       [-8.2471e+00],\n",
              "       [ 1.6779e+01],\n",
              "       [ 1.7796e+01],\n",
              "       [-3.8713e+00],\n",
              "       [-4.0573e+01],\n",
              "       [-1.3405e+01],\n",
              "       [ 2.1153e+00],\n",
              "       [ 1.5863e+01],\n",
              "       [ 4.4686e+01],\n",
              "       [-3.4364e+00],\n",
              "       [-1.5517e+00],\n",
              "       [ 4.7291e+01],\n",
              "       [-8.6998e+00],\n",
              "       [-2.9924e+01],\n",
              "       [ 8.3911e-01],\n",
              "       [-9.2476e+00],\n",
              "       [ 2.7003e+01],\n",
              "       [ 2.5867e+00],\n",
              "       [ 4.9694e+01],\n",
              "       [ 8.3301e+00],\n",
              "       [-2.4894e+01],\n",
              "       [-4.1066e+00],\n",
              "       [ 3.8455e+01],\n",
              "       [ 3.1136e+01],\n",
              "       [-1.3811e+00],\n",
              "       [ 1.2125e+01],\n",
              "       [ 3.0302e+01],\n",
              "       [ 3.0955e+00],\n",
              "       [ 5.8766e+00],\n",
              "       [-3.0023e+01],\n",
              "       [ 3.0035e+01],\n",
              "       [ 1.2164e+01],\n",
              "       [-2.0170e+01],\n",
              "       [-2.0264e+01],\n",
              "       [-6.6087e+00],\n",
              "       [-1.5911e+01],\n",
              "       [-1.3703e+01],\n",
              "       [-3.2999e+01],\n",
              "       [-1.0672e+01],\n",
              "       [ 3.5050e+01],\n",
              "       [-1.0912e+01],\n",
              "       [-1.8707e-02],\n",
              "       [ 1.2252e+01],\n",
              "       [ 3.8547e+01],\n",
              "       [-1.4543e+01],\n",
              "       [ 1.2523e+01],\n",
              "       [ 3.9793e+00],\n",
              "       [-1.2036e+01],\n",
              "       [-5.8497e+00],\n",
              "       [ 4.1025e+01],\n",
              "       [ 2.7969e+00],\n",
              "       [ 5.6975e+01],\n",
              "       [-1.5761e+01],\n",
              "       [ 5.3426e+00],\n",
              "       [-1.0335e+01],\n",
              "       [ 7.4221e+00],\n",
              "       [-1.7794e+00],\n",
              "       [ 8.8171e+00],\n",
              "       [ 1.6161e+01],\n",
              "       [-1.6675e+00],\n",
              "       [-9.9078e+00],\n",
              "       [-2.1171e+00],\n",
              "       [ 1.7474e+00],\n",
              "       [-1.4588e+01],\n",
              "       [-6.0635e+00],\n",
              "       [-2.1557e+01],\n",
              "       [-8.5759e+00],\n",
              "       [-3.8046e+01],\n",
              "       [ 6.4449e+00],\n",
              "       [-3.1112e+01],\n",
              "       [ 5.4599e+00],\n",
              "       [ 1.8380e+01],\n",
              "       [-5.8724e+00],\n",
              "       [-1.7492e+01],\n",
              "       [ 1.0832e+01],\n",
              "       [ 1.3671e+01],\n",
              "       [-8.5453e+00],\n",
              "       [-2.1670e+01],\n",
              "       [ 5.7464e+00],\n",
              "       [ 2.6232e+00],\n",
              "       [-3.2068e+01],\n",
              "       [-2.4007e+01],\n",
              "       [-6.8228e+00],\n",
              "       [ 1.8929e+01],\n",
              "       [ 2.3911e+01],\n",
              "       [-7.3277e+00],\n",
              "       [-4.5082e+01],\n",
              "       [-7.0273e-01],\n",
              "       [ 1.2210e+01],\n",
              "       [ 4.8601e+00],\n",
              "       [-1.7838e+01],\n",
              "       [-3.9885e+01],\n",
              "       [ 2.0909e+01],\n",
              "       [ 7.4963e+00],\n",
              "       [ 1.6108e+01],\n",
              "       [ 3.5868e+01],\n",
              "       [ 2.0733e+01],\n",
              "       [ 9.3955e+00],\n",
              "       [-1.9454e+01],\n",
              "       [ 2.0702e+00],\n",
              "       [-2.4400e+01],\n",
              "       [-9.9399e-01],\n",
              "       [-2.5992e+01],\n",
              "       [ 6.0576e+00],\n",
              "       [-2.0587e+01],\n",
              "       [ 1.3067e+01],\n",
              "       [-6.4916e+01],\n",
              "       [ 2.5847e+00],\n",
              "       [ 4.0902e+01],\n",
              "       [ 1.4876e+01],\n",
              "       [-4.9291e+01],\n",
              "       [ 1.7153e+00],\n",
              "       [-4.3790e+00],\n",
              "       [ 1.9118e+00],\n",
              "       [ 5.4631e+00],\n",
              "       [-2.6081e+01],\n",
              "       [-4.0103e-02],\n",
              "       [-6.5353e+00],\n",
              "       [ 6.0363e+01],\n",
              "       [ 1.6202e+01],\n",
              "       [-2.3507e+01],\n",
              "       [ 7.8977e+00],\n",
              "       [ 1.6898e+01],\n",
              "       [-4.3107e+01],\n",
              "       [ 3.9218e+00],\n",
              "       [-3.7696e+01],\n",
              "       [ 3.9915e+00],\n",
              "       [-7.3370e+00],\n",
              "       [-3.8126e-01],\n",
              "       [-3.9765e+00],\n",
              "       [-3.7380e+01],\n",
              "       [ 2.0458e+01],\n",
              "       [ 5.9758e+00],\n",
              "       [ 2.2718e+00],\n",
              "       [-6.2001e+00],\n",
              "       [-7.0384e+00],\n",
              "       [-2.2851e+01],\n",
              "       [-1.1895e+01],\n",
              "       [ 4.0893e+01],\n",
              "       [-1.6795e+00],\n",
              "       [-1.3885e+01],\n",
              "       [-2.5097e+00],\n",
              "       [-1.4125e+01],\n",
              "       [ 3.7307e+01],\n",
              "       [-1.6160e+01],\n",
              "       [ 6.0787e+00],\n",
              "       [-2.5531e+01],\n",
              "       [ 5.9956e+00],\n",
              "       [ 2.0028e+01],\n",
              "       [-1.6750e+01],\n",
              "       [-1.9334e+01],\n",
              "       [ 1.6271e-01],\n",
              "       [-3.4671e+01],\n",
              "       [ 3.5245e+01],\n",
              "       [ 5.1824e+00],\n",
              "       [-2.6168e+01],\n",
              "       [-2.6674e+01],\n",
              "       [ 1.1688e+01],\n",
              "       [ 2.7713e+00],\n",
              "       [-4.6794e+00],\n",
              "       [-4.3451e+01],\n",
              "       [ 8.4668e+00],\n",
              "       [-8.3268e-01],\n",
              "       [ 3.9874e+01],\n",
              "       [-2.2564e+01],\n",
              "       [-2.8030e+00],\n",
              "       [-4.9261e+00],\n",
              "       [ 6.5088e+01],\n",
              "       [ 2.8404e+00],\n",
              "       [-8.3876e+00],\n",
              "       [-1.4117e+01],\n",
              "       [-3.5977e+01],\n",
              "       [-1.5865e+01],\n",
              "       [-4.0431e+00],\n",
              "       [ 1.3233e+01],\n",
              "       [-4.1784e+00],\n",
              "       [ 6.5878e+00],\n",
              "       [-1.8426e+00],\n",
              "       [ 1.5489e+00],\n",
              "       [ 1.0748e+01],\n",
              "       [-2.7734e+01],\n",
              "       [ 3.4400e+00],\n",
              "       [-2.1487e+01],\n",
              "       [ 1.8528e+01],\n",
              "       [ 3.7315e+01],\n",
              "       [ 1.0669e+01],\n",
              "       [-1.4307e+01],\n",
              "       [-2.2615e+01],\n",
              "       [ 5.9875e+00],\n",
              "       [ 2.5725e+00],\n",
              "       [ 1.5721e+01],\n",
              "       [ 1.5855e+01],\n",
              "       [ 2.1729e+01],\n",
              "       [ 2.5675e+00],\n",
              "       [-3.6022e+01],\n",
              "       [-3.0691e+01],\n",
              "       [-4.2653e+01],\n",
              "       [-2.7195e+01],\n",
              "       [-1.4612e+01],\n",
              "       [ 5.8955e+01],\n",
              "       [-2.1876e+01],\n",
              "       [ 2.8227e+00],\n",
              "       [ 2.3836e+01],\n",
              "       [ 5.0740e+00],\n",
              "       [ 3.9070e+01],\n",
              "       [ 9.3731e+00],\n",
              "       [-7.9810e+00],\n",
              "       [-4.5468e+01],\n",
              "       [-2.0984e+01],\n",
              "       [ 1.5563e+00],\n",
              "       [ 7.9302e+00],\n",
              "       [ 1.8774e+01],\n",
              "       [ 4.1243e+00],\n",
              "       [-1.6510e+01],\n",
              "       [ 6.1076e+00],\n",
              "       [ 3.5290e+01],\n",
              "       [ 1.8140e+01],\n",
              "       [-3.2947e+00],\n",
              "       [-2.1517e+00],\n",
              "       [ 2.3015e+01],\n",
              "       [ 1.6611e+01],\n",
              "       [ 1.6096e+01],\n",
              "       [ 1.3177e+00],\n",
              "       [-2.8426e+01],\n",
              "       [-3.9981e+00],\n",
              "       [ 2.2609e+01],\n",
              "       [ 1.7634e+01],\n",
              "       [ 2.5439e+01],\n",
              "       [ 4.6717e+00],\n",
              "       [-5.0628e+01],\n",
              "       [ 2.5040e+01],\n",
              "       [-2.5677e+01],\n",
              "       [ 1.0907e+00],\n",
              "       [-7.9235e+00],\n",
              "       [-2.3742e+01],\n",
              "       [ 3.0537e+01],\n",
              "       [-2.6986e+01],\n",
              "       [ 1.5337e+01],\n",
              "       [ 1.6101e+01],\n",
              "       [-9.4903e+00],\n",
              "       [-8.8260e+00],\n",
              "       [-2.2928e+01],\n",
              "       [ 1.3129e+01],\n",
              "       [ 3.0697e+01],\n",
              "       [-2.4148e+01],\n",
              "       [ 2.9855e+01],\n",
              "       [-2.1800e-02],\n",
              "       [-3.8375e+01],\n",
              "       [ 1.1638e+01],\n",
              "       [-1.1608e+01],\n",
              "       [-3.0551e+01],\n",
              "       [-4.5933e+01],\n",
              "       [ 1.6905e+01],\n",
              "       [-2.1484e+00],\n",
              "       [ 4.7167e+00],\n",
              "       [ 1.3104e+01],\n",
              "       [-1.0339e+01],\n",
              "       [ 1.9899e-01],\n",
              "       [-1.8322e+01],\n",
              "       [-7.5267e+00],\n",
              "       [ 2.7270e+01],\n",
              "       [ 1.4698e+00]])"
            ]
          },
          "metadata": {
            "tags": []
          },
          "execution_count": 205
        }
      ]
    },
    {
      "cell_type": "code",
      "metadata": {
        "id": "soIn70AEkLcG",
        "colab_type": "code",
        "colab": {
          "base_uri": "https://localhost:8080/",
          "height": 200
        },
        "outputId": "b2937103-66c2-43dc-f245-bca92e89c390"
      },
      "source": [
        "B3"
      ],
      "execution_count": 206,
      "outputs": [
        {
          "output_type": "execute_result",
          "data": {
            "text/plain": [
              "array([[-0.3294],\n",
              "       [-0.569 ],\n",
              "       [-0.4779],\n",
              "       [ 0.246 ],\n",
              "       [ 0.063 ],\n",
              "       [ 0.8008],\n",
              "       [ 0.6386],\n",
              "       [ 0.2953],\n",
              "       [-1.2807],\n",
              "       [-1.6407],\n",
              "       [ 1.4609]])"
            ]
          },
          "metadata": {
            "tags": []
          },
          "execution_count": 206
        }
      ]
    },
    {
      "cell_type": "code",
      "metadata": {
        "id": "MSo2ALS7kMO6",
        "colab_type": "code",
        "colab": {
          "base_uri": "https://localhost:8080/",
          "height": 200
        },
        "outputId": "10cb4cf9-8b50-4082-e57f-1fad1846d053"
      },
      "source": [
        "B2"
      ],
      "execution_count": 207,
      "outputs": [
        {
          "output_type": "execute_result",
          "data": {
            "text/plain": [
              "array([[-0.3294],\n",
              "       [-0.569 ],\n",
              "       [-0.4779],\n",
              "       [ 0.246 ],\n",
              "       [ 0.063 ],\n",
              "       [ 0.8008],\n",
              "       [ 0.6386],\n",
              "       [ 0.2953],\n",
              "       [-1.2807],\n",
              "       [-1.6407],\n",
              "       [ 1.4609]])"
            ]
          },
          "metadata": {
            "tags": []
          },
          "execution_count": 207
        }
      ]
    },
    {
      "cell_type": "code",
      "metadata": {
        "id": "YKBv7-jQmmp3",
        "colab_type": "code",
        "colab": {}
      },
      "source": [
        ""
      ],
      "execution_count": null,
      "outputs": []
    }
  ]
}